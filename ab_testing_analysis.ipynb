{
 "cells": [
  {
   "cell_type": "markdown",
   "id": "cd49f5eb-eef9-403b-a9bc-aeccb8e1ec7a",
   "metadata": {},
   "source": [
    "## Step 1: Simulate the Dataset"
   ]
  },
  {
   "cell_type": "code",
   "execution_count": 17,
   "id": "4ef1e6f4-28f6-495c-94b7-0d2e62ee5bd8",
   "metadata": {
    "scrolled": true
   },
   "outputs": [
    {
     "name": "stdout",
     "output_type": "stream",
     "text": [
      "  group  converted\n",
      "0     A          0\n",
      "1     A          1\n",
      "2     A          0\n",
      "3     A          0\n",
      "4     A          0\n"
     ]
    }
   ],
   "source": [
    "import pandas as pd\n",
    "import numpy as np\n",
    "import matplotlib.pyplot as plt\n",
    "import seaborn as sns\n",
    "from scipy.stats import chi2_contingency\n",
    "\n",
    "# Set seed for reproducibility\n",
    "np.random.seed(42)\n",
    "\n",
    "# Simulate data\n",
    "n = 5000  # number of users per group\n",
    "\n",
    "# Conversion rates\n",
    "conv_rate_A = 0.12  # 12% conversion\n",
    "conv_rate_B = 0.15  # 15% conversion (hypothetical improvement)\n",
    "\n",
    "# Generate outcomes: 1 = converted, 0 = not converted\n",
    "group_A = np.random.choice([0, 1], size=n, p=[1-conv_rate_A, conv_rate_A])\n",
    "group_B = np.random.choice([0, 1], size=n, p=[1-conv_rate_B, conv_rate_B])\n",
    "\n",
    "# Create DataFrame\n",
    "data = pd.DataFrame({\n",
    "    'group': ['A'] * n + ['B'] * n,\n",
    "    'converted': np.concatenate([group_A, group_B])\n",
    "})\n",
    "\n",
    "# Show first few rows\n",
    "print(data.head())"
   ]
  },
  {
   "cell_type": "markdown",
   "id": "889ee994-28e7-4c48-af68-5512f4ca8f85",
   "metadata": {},
   "source": [
    "## Step 2: Summarize the Results"
   ]
  },
  {
   "cell_type": "code",
   "execution_count": 19,
   "id": "4a3dd6c5-8629-43a6-b2a5-1703eb1bf62f",
   "metadata": {
    "scrolled": true
   },
   "outputs": [
    {
     "name": "stdout",
     "output_type": "stream",
     "text": [
      "       Total Users  Conversions  Conversion Rate\n",
      "group                                           \n",
      "A             5000          578           0.1156\n",
      "B             5000          718           0.1436\n"
     ]
    }
   ],
   "source": [
    "summary = data.groupby('group')['converted'].agg(['count', 'sum', 'mean'])\n",
    "summary.columns = ['Total Users', 'Conversions', 'Conversion Rate']\n",
    "print(summary)"
   ]
  },
  {
   "cell_type": "markdown",
   "id": "e91e418a-d9e0-45ed-b9c5-52e9520ad9cf",
   "metadata": {},
   "source": [
    "## Step 3: Statistical Significance Test  \n",
    "Using a Chi-Square Test for categorical data"
   ]
  },
  {
   "cell_type": "code",
   "execution_count": 21,
   "id": "172a7050-5803-48e1-8bff-6dc83f147288",
   "metadata": {
    "scrolled": true
   },
   "outputs": [
    {
     "name": "stdout",
     "output_type": "stream",
     "text": [
      "Chi-square Statistic: 17.1280\n",
      "P-value: 0.0000\n"
     ]
    }
   ],
   "source": [
    "# Contingency table\n",
    "contingency = pd.crosstab(data['group'], data['converted'])\n",
    "\n",
    "# Chi-square test\n",
    "chi2, p, dof, expected = chi2_contingency(contingency)\n",
    "\n",
    "# If p < 0.05, the difference is statistically significant.\n",
    "print(f\"Chi-square Statistic: {chi2:.4f}\")\n",
    "print(f\"P-value: {p:.4f}\") "
   ]
  },
  {
   "cell_type": "markdown",
   "id": "efacedcd-d153-4485-8cc4-ccdc517b6fc3",
   "metadata": {},
   "source": [
    "## Step 4: Visualize the Results"
   ]
  },
  {
   "cell_type": "code",
   "execution_count": 23,
   "id": "7ed8e0ac-9f11-4780-b507-06f03cc7e871",
   "metadata": {
    "scrolled": true
   },
   "outputs": [
    {
     "name": "stderr",
     "output_type": "stream",
     "text": [
      "C:\\Users\\Surface 4\\AppData\\Local\\Temp\\ipykernel_9900\\428412148.py:3: FutureWarning: \n",
      "\n",
      "The `ci` parameter is deprecated. Use `errorbar=('ci', 95)` for the same effect.\n",
      "\n",
      "  sns.barplot(x='group', y='converted', data=data, estimator=np.mean, ci=95)\n"
     ]
    },
    {
     "data": {
      "image/png": "[encoded data removed]",
      "text/plain": [
       "<Figure size 800x500 with 1 Axes>"
      ]
     },
     "metadata": {},
     "output_type": "display_data"
    }
   ],
   "source": [
    "# Plot conversion rates\n",
    "plt.figure(figsize=(8,5))\n",
    "sns.barplot(x='group', y='converted', data=data, estimator=np.mean, ci=95)\n",
    "plt.title('Conversion Rate by Email Version')\n",
    "plt.ylabel('Conversion Rate')\n",
    "plt.xlabel('Email Group')\n",
    "plt.ylim(0, 0.2)\n",
    "plt.show()"
   ]
  },
  {
   "cell_type": "markdown",
   "id": "2716d355-564b-407f-9763-d7ee8deb289a",
   "metadata": {},
   "source": [
    "# Confidence Intervals"
   ]
  },
  {
   "cell_type": "code",
   "execution_count": 25,
   "id": "fc5dfdf9-1388-47a7-9a8e-5346433b2e6d",
   "metadata": {
    "scrolled": true
   },
   "outputs": [
    {
     "name": "stdout",
     "output_type": "stream",
     "text": [
      "Group A CI: (0.10673729338716292, 0.12446270661283707)\n",
      "Group B CI: (0.1338797230701127, 0.1533202769298873)\n"
     ]
    }
   ],
   "source": [
    "import statsmodels.api as sm\n",
    "\n",
    "# Separate groups\n",
    "conv_A = data[data['group'] == 'A']['converted']\n",
    "conv_B = data[data['group'] == 'B']['converted']\n",
    "\n",
    "# Compute proportions and CIs\n",
    "ci_A = sm.stats.proportion_confint(conv_A.sum(), len(conv_A), alpha=0.05, method='normal')\n",
    "ci_B = sm.stats.proportion_confint(conv_B.sum(), len(conv_B), alpha=0.05, method='normal')\n",
    "\n",
    "print(f\"Group A CI: {ci_A}\")\n",
    "print(f\"Group B CI: {ci_B}\")"
   ]
  },
  {
   "cell_type": "markdown",
   "id": "8ac6c452-5519-4609-a0bb-5afb6b9fd410",
   "metadata": {},
   "source": [
    "# ✅ Conclusion: \n",
    "Group B had a higher conversion rate.\n",
    "\n",
    "The Chi-square test showed the difference was statistically significant (p < 0.05).\n",
    "\n",
    "The company can implement Version B confidently as the better-performing email."
   ]
  }
 ],
 "metadata": {
  "kernelspec": {
   "display_name": "Python 3 (ipykernel)",
   "language": "python",
   "name": "python3"
  },
  "language_info": {
   "codemirror_mode": {
    "name": "ipython",
    "version": 3
   },
   "file_extension": ".py",
   "mimetype": "text/x-python",
   "name": "python",
   "nbconvert_exporter": "python",
   "pygments_lexer": "ipython3",
   "version": "3.12.3"
  }
 },
 "nbformat": 4,
 "nbformat_minor": 5
}
